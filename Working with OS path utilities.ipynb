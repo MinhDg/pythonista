{
 "cells": [
  {
   "cell_type": "code",
   "execution_count": null,
   "metadata": {},
   "outputs": [],
   "source": [
    "# you need to do some work with files that goes beyond just reading and writing data\n",
    "# For example, you might need to find out information about a file, whether it exists, what the path of the file is,\n",
    "# whether a given path is a file or a directory"
   ]
  },
  {
   "cell_type": "code",
   "execution_count": 1,
   "metadata": {},
   "outputs": [],
   "source": [
    "import os\n",
    "from os import path\n",
    "import datetime\n",
    "from datetime import date, time, timedelta\n",
    "import time"
   ]
  },
  {
   "cell_type": "code",
   "execution_count": 4,
   "metadata": {},
   "outputs": [
    {
     "name": "stdout",
     "output_type": "stream",
     "text": [
      "nt\n"
     ]
    }
   ],
   "source": [
    "def main():\n",
    "    # print the name of th os\n",
    "    print(os.name)\n",
    "    \n",
    "main()"
   ]
  },
  {
   "cell_type": "code",
   "execution_count": 7,
   "metadata": {
    "scrolled": true
   },
   "outputs": [
    {
     "name": "stdout",
     "output_type": "stream",
     "text": [
      "nt\n",
      "Item exist: True\n",
      "Item is a file: True\n",
      "Item is a directory: False\n"
     ]
    }
   ],
   "source": [
    "# look at some of the path-related features\n",
    "# write code to see an item exist\n",
    "\n",
    "def main():\n",
    "    # print the name of th os\n",
    "    print(os.name)\n",
    "    print(\"Item exist: \" + str(path.exists(\"textfile.txt\")))\n",
    "    print(\"Item is a file: \" + str(path.isfile(\"textfile.txt\")))\n",
    "    print(\"Item is a directory: \" + str(path.isdir(\"textfile.txt\")))\n",
    "\n",
    "main()\n",
    "# we can see that the item exists, and it is a file, and it is not a directory\n"
   ]
  },
  {
   "cell_type": "code",
   "execution_count": 8,
   "metadata": {},
   "outputs": [
    {
     "name": "stdout",
     "output_type": "stream",
     "text": [
      "nt\n",
      "Item path: C:\\Users\\user\\Desktop\\Pythonista\\textfile.txt\n",
      "Item path and nanme: ('C:\\\\Users\\\\user\\\\Desktop\\\\Pythonista', 'textfile.txt')\n"
     ]
    }
   ],
   "source": [
    "def main():\n",
    "    # print the name of th os\n",
    "    print(os.name)\n",
    "    print(\"Item path: \" + str(path.realpath(\"textfile.txt\")))\n",
    "    print(\"Item path and nanme: \" + str(path.split(path.realpath(\"textfile.txt\"))))\n",
    "\n",
    "main()"
   ]
  },
  {
   "cell_type": "code",
   "execution_count": 9,
   "metadata": {},
   "outputs": [
    {
     "data": {
      "text/plain": [
       "('C:\\\\Users\\\\user\\\\Desktop\\\\Pythonista', 'textfile.txt')"
      ]
     },
     "execution_count": 9,
     "metadata": {},
     "output_type": "execute_result"
    }
   ],
   "source": [
    "path.split(path.realpath(\"textfile.txt\")) # will give a tuple, which contains just the path portion and the filename portion."
   ]
  },
  {
   "cell_type": "code",
   "execution_count": 10,
   "metadata": {},
   "outputs": [
    {
     "data": {
      "text/plain": [
       "'C:\\\\Users\\\\user\\\\Desktop\\\\Pythonista\\\\textfile.txt'"
      ]
     },
     "execution_count": 10,
     "metadata": {},
     "output_type": "execute_result"
    }
   ],
   "source": [
    "path.realpath(\"textfile.txt\")"
   ]
  },
  {
   "cell_type": "code",
   "execution_count": null,
   "metadata": {},
   "outputs": [],
   "source": []
  },
  {
   "cell_type": "code",
   "execution_count": null,
   "metadata": {},
   "outputs": [],
   "source": []
  },
  {
   "cell_type": "code",
   "execution_count": null,
   "metadata": {},
   "outputs": [],
   "source": []
  },
  {
   "cell_type": "code",
   "execution_count": null,
   "metadata": {},
   "outputs": [],
   "source": []
  }
 ],
 "metadata": {
  "kernelspec": {
   "display_name": "Python 3",
   "language": "python",
   "name": "python3"
  },
  "language_info": {
   "codemirror_mode": {
    "name": "ipython",
    "version": 3
   },
   "file_extension": ".py",
   "mimetype": "text/x-python",
   "name": "python",
   "nbconvert_exporter": "python",
   "pygments_lexer": "ipython3",
   "version": "3.6.5"
  }
 },
 "nbformat": 4,
 "nbformat_minor": 2
}
