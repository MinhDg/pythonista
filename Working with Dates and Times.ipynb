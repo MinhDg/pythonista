{
 "cells": [
  {
   "cell_type": "code",
   "execution_count": 1,
   "metadata": {},
   "outputs": [],
   "source": [
    "#  how to format that information using a set of predefined string control codes\n",
    "from datetime import date\n",
    "from datetime import time\n",
    "from datetime import datetime"
   ]
  },
  {
   "cell_type": "code",
   "execution_count": 4,
   "metadata": {},
   "outputs": [],
   "source": [
    "def main():\n",
    "  today = date.today()\n",
    "  print(\"Today's date is \", today)"
   ]
  },
  {
   "cell_type": "code",
   "execution_count": 5,
   "metadata": {},
   "outputs": [
    {
     "name": "stdout",
     "output_type": "stream",
     "text": [
      "Today's date is  2020-06-06\n"
     ]
    }
   ],
   "source": [
    "main()"
   ]
  },
  {
   "cell_type": "code",
   "execution_count": 4,
   "metadata": {},
   "outputs": [
    {
     "name": "stdout",
     "output_type": "stream",
     "text": [
      "Today's date is  2020-06-07\n",
      "Date components: 7 6 2020\n"
     ]
    }
   ],
   "source": [
    "def main():\n",
    "    today = date.today()\n",
    "    print(\"Today's date is \", today)\n",
    "    print(\"Date components:\", today.day, today.month, today.year)\n",
    "\n",
    "main()"
   ]
  },
  {
   "cell_type": "code",
   "execution_count": null,
   "metadata": {},
   "outputs": [],
   "source": [
    "def main():\n",
    "    today = date.today()\n",
    "    print(\"Today's date is \", today)\n",
    "    print(\"Date components:\", today.day, today.month, today.year)\n",
    "\n",
    "main()"
   ]
  },
  {
   "cell_type": "code",
   "execution_count": 6,
   "metadata": {},
   "outputs": [
    {
     "name": "stdout",
     "output_type": "stream",
     "text": [
      "The current year is: 2020\n",
      "Sun, 07 June, 20\n"
     ]
    }
   ],
   "source": [
    " # Times and dates can be formatted using a set of predefined string\n",
    "\n",
    "def main():\n",
    "    now = datetime.now() # control codes , get the current date and time\n",
    "    #### Date Formatting ####\n",
    "    # %y/%Y - Year, %a/%A - weekday, %b/%B - month, %d - day of month\n",
    "    print (now.strftime(\"The current year is: %Y\")) # full year with century\n",
    "    print (now.strftime(\"%a, %d %B, %y\")) # abbreviated day, num, full month, abbreviated year\n",
    "  \n",
    "if __name__ == \"__main__\":\n",
    "  main();"
   ]
  },
  {
   "cell_type": "code",
   "execution_count": 7,
   "metadata": {},
   "outputs": [
    {
     "name": "stdout",
     "output_type": "stream",
     "text": [
      "Locale date and time: Sun Jun  7 12:19:16 2020\n",
      "Locale date: 06/07/20\n",
      "Locale time: 12:19:16\n"
     ]
    }
   ],
   "source": [
    "def main():\n",
    "    # Times and dates can be formatted using a set of predefined string\n",
    "    # control codes \n",
    "    now = datetime.now() # get the current date and time\n",
    "    #### Date Formatting ####\n",
    "    # %c - locale's date and time, %x - locale's date, %X - locale's time\n",
    "    print (now.strftime(\"Locale date and time: %c\"))\n",
    "    print (now.strftime(\"Locale date: %x\"))\n",
    "    print (now.strftime(\"Locale time: %X\"))\n",
    "if __name__ == \"__main__\":\n",
    "  main();"
   ]
  },
  {
   "cell_type": "code",
   "execution_count": 8,
   "metadata": {},
   "outputs": [
    {
     "name": "stdout",
     "output_type": "stream",
     "text": [
      "Current time: 12:19:41 PM\n",
      "24-hour time: 12:19\n"
     ]
    }
   ],
   "source": [
    "from datetime import datetime\n",
    "\n",
    "def main():\n",
    "  # Times and dates can be formatted using a set of predefined string\n",
    "  # control codes \n",
    "  now = datetime.now() # get the current date and time\n",
    " \n",
    "  #### Time Formatting ####\n",
    "  \n",
    "  # %I/%H - 12/24 Hour, %M - minute, %S - second, %p - locale's AM/PM\n",
    "  print (now.strftime(\"Current time: %I:%M:%S %p\")) # 12-Hour:Minute:Second:AM\n",
    "  print (now.strftime(\"24-hour time: %H:%M\")) # 24-Hour:Minute\n",
    "\n",
    "\n",
    "if __name__ == \"__main__\":\n",
    "  main();"
   ]
  },
  {
   "cell_type": "code",
   "execution_count": null,
   "metadata": {},
   "outputs": [],
   "source": [
    "# USING TIME DELTA OBJECTS\n",
    "# given a particular date, you might want to calculate a date in the future or the past relative to that date"
   ]
  },
  {
   "cell_type": "code",
   "execution_count": 9,
   "metadata": {},
   "outputs": [],
   "source": [
    "from datetime import date\n",
    "from datetime import time\n",
    "from datetime import datetime\n",
    "from datetime import timedelta # to perform time space mathematic\n"
   ]
  },
  {
   "cell_type": "code",
   "execution_count": 10,
   "metadata": {},
   "outputs": [
    {
     "name": "stdout",
     "output_type": "stream",
     "text": [
      "365 days, 5:01:00\n"
     ]
    }
   ],
   "source": [
    "# contruct a bacis timedelta amd print it\n",
    "print(timedelta(days = 365, hours = 5, minutes = 1)) # creating a timedelta that represents a year, five hours and one minute. "
   ]
  },
  {
   "cell_type": "code",
   "execution_count": 11,
   "metadata": {},
   "outputs": [
    {
     "name": "stdout",
     "output_type": "stream",
     "text": [
      "2020-06-07 12:24:05.520568\n"
     ]
    }
   ],
   "source": [
    "# Creating a reference\n",
    "now = datetime.now()\n",
    "print(now)"
   ]
  },
  {
   "cell_type": "code",
   "execution_count": 12,
   "metadata": {},
   "outputs": [
    {
     "name": "stdout",
     "output_type": "stream",
     "text": [
      "One year from now it will be: 2021-06-07 12:24:05.520568\n"
     ]
    }
   ],
   "source": [
    "print(\"One year from now it will be: \" + str(now + timedelta(days = 365)))"
   ]
  },
  {
   "cell_type": "code",
   "execution_count": 16,
   "metadata": {},
   "outputs": [
    {
     "name": "stdout",
     "output_type": "stream",
     "text": [
      "In 2 days and 3 weeks, it will be 2020-06-30 12:27:59.742513\n"
     ]
    }
   ],
   "source": [
    "# Create a timedelta that uses more than one argument\n",
    "now = datetime.now()\n",
    "print(\"In 2 days and 3 weeks, it will be \"  + str(now +  timedelta(days = 2, weeks =3)))\n",
    "# constructing a timedelta and then adding that delta to the current date\n",
    "# By using a timedelta, I can calculate days in advance"
   ]
  },
  {
   "cell_type": "code",
   "execution_count": 17,
   "metadata": {},
   "outputs": [
    {
     "name": "stdout",
     "output_type": "stream",
     "text": [
      "one week ago it was Sunday May 31, 2020\n"
     ]
    }
   ],
   "source": [
    "# calculate the date 1 week ago, formatted as a string\n",
    "t = datetime.now() - timedelta(weeks=1)\n",
    "s = t.strftime(\"%A %B %d, %Y\") # combined the timedelta calculation with the time formatting that we saw in the previous example,\n",
    "# to see that one week ago\n",
    "print (\"one week ago it was \" + s)\n"
   ]
  },
  {
   "cell_type": "code",
   "execution_count": 19,
   "metadata": {},
   "outputs": [
    {
     "name": "stdout",
     "output_type": "stream",
     "text": [
      "2020-06-07\n",
      "2020-04-01\n",
      "April Fool's day already went by 67 days ago\n",
      "It's just 298 days until next April Fools' Day!\n"
     ]
    }
   ],
   "source": [
    "# to calculate how many days it is until the next April Fool's Day.\n",
    "\n",
    "today = date.today()  # get today's date\n",
    "afd = date(today.year, 4, 1) \n",
    "print(today)\n",
    "print(afd)\n",
    "\n",
    "# get April Fool's for the same year\n",
    "# use date comparison to see if April Fool's has already gone for this year\n",
    "# if it has, use the replace() function to get the date for next year\n",
    "if afd < today:\n",
    "  print (\"April Fool's day already went by %d days ago\" % ((today-afd).days))\n",
    "  afd = afd.replace(year=today.year + 1)  # if so, get the date for next year\n",
    "\n",
    "# Now calculate the amount of time until April Fool's Day  \n",
    "time_to_afd = afd - today\n",
    "print (\"It's just\", time_to_afd.days, \"days until next April Fools' Day!\")"
   ]
  },
  {
   "cell_type": "code",
   "execution_count": 20,
   "metadata": {},
   "outputs": [],
   "source": [
    "# WORKING WITH CALENDER\n",
    "import calendar\n"
   ]
  },
  {
   "cell_type": "code",
   "execution_count": 25,
   "metadata": {},
   "outputs": [
    {
     "name": "stdout",
     "output_type": "stream",
     "text": [
      "    January 2017\n",
      "Su Mo Tu We Th Fr Sa\n",
      " 1  2  3  4  5  6  7\n",
      " 8  9 10 11 12 13 14\n",
      "15 16 17 18 19 20 21\n",
      "22 23 24 25 26 27 28\n",
      "29 30 31\n",
      "\n"
     ]
    }
   ],
   "source": [
    "# create a plain text calendar\n",
    "c1 = calendar.TextCalendar(calendar.SUNDAY)\n",
    "str1 = c1.formatmonth(2017, 1, 0, 0)\n",
    "print (str1)"
   ]
  },
  {
   "cell_type": "code",
   "execution_count": 24,
   "metadata": {},
   "outputs": [
    {
     "name": "stdout",
     "output_type": "stream",
     "text": [
      "    January 2017\n",
      "Mo Tu We Th Fr Sa Su\n",
      "                   1\n",
      " 2  3  4  5  6  7  8\n",
      " 9 10 11 12 13 14 15\n",
      "16 17 18 19 20 21 22\n",
      "23 24 25 26 27 28 29\n",
      "30 31\n",
      "\n"
     ]
    }
   ],
   "source": [
    "c2 = calendar.TextCalendar(calendar.MONDAY)\n",
    "str2 = c2.formatmonth(2017, 1, 0, 0)\n",
    "print (str2)"
   ]
  },
  {
   "cell_type": "code",
   "execution_count": 26,
   "metadata": {},
   "outputs": [
    {
     "name": "stdout",
     "output_type": "stream",
     "text": [
      "<table border=\"0\" cellpadding=\"0\" cellspacing=\"0\" class=\"month\">\n",
      "<tr><th colspan=\"7\" class=\"month\">January 2017</th></tr>\n",
      "<tr><th class=\"sun\">Sun</th><th class=\"mon\">Mon</th><th class=\"tue\">Tue</th><th class=\"wed\">Wed</th><th class=\"thu\">Thu</th><th class=\"fri\">Fri</th><th class=\"sat\">Sat</th></tr>\n",
      "<tr><td class=\"sun\">1</td><td class=\"mon\">2</td><td class=\"tue\">3</td><td class=\"wed\">4</td><td class=\"thu\">5</td><td class=\"fri\">6</td><td class=\"sat\">7</td></tr>\n",
      "<tr><td class=\"sun\">8</td><td class=\"mon\">9</td><td class=\"tue\">10</td><td class=\"wed\">11</td><td class=\"thu\">12</td><td class=\"fri\">13</td><td class=\"sat\">14</td></tr>\n",
      "<tr><td class=\"sun\">15</td><td class=\"mon\">16</td><td class=\"tue\">17</td><td class=\"wed\">18</td><td class=\"thu\">19</td><td class=\"fri\">20</td><td class=\"sat\">21</td></tr>\n",
      "<tr><td class=\"sun\">22</td><td class=\"mon\">23</td><td class=\"tue\">24</td><td class=\"wed\">25</td><td class=\"thu\">26</td><td class=\"fri\">27</td><td class=\"sat\">28</td></tr>\n",
      "<tr><td class=\"sun\">29</td><td class=\"mon\">30</td><td class=\"tue\">31</td><td class=\"noday\">&nbsp;</td><td class=\"noday\">&nbsp;</td><td class=\"noday\">&nbsp;</td><td class=\"noday\">&nbsp;</td></tr>\n",
      "</table>\n",
      "\n"
     ]
    }
   ],
   "source": [
    "hc1 = calendar.HTMLCalendar(calendar.SUNDAY)\n",
    "str3 = hc1.formatmonth(2017, 1)\n",
    "print (str3)\n"
   ]
  },
  {
   "cell_type": "code",
   "execution_count": 29,
   "metadata": {},
   "outputs": [
    {
     "name": "stdout",
     "output_type": "stream",
     "text": [
      "    January 2017\n",
      "Su Mo Tu We Th Fr Sa\n",
      " 1  2  3  4  5  6  7\n",
      " 8  9 10 11 12 13 14\n",
      "15 16 17 18 19 20 21\n",
      "22 23 24 25 26 27 28\n",
      "29 30 31\n",
      "\n",
      "0\n",
      "0\n",
      "1\n",
      "2\n",
      "3\n",
      "4\n",
      "5\n",
      "6\n",
      "7\n",
      "8\n",
      "9\n",
      "10\n",
      "11\n",
      "12\n",
      "13\n",
      "14\n",
      "15\n",
      "16\n",
      "17\n",
      "18\n",
      "19\n",
      "20\n",
      "21\n",
      "22\n",
      "23\n",
      "24\n",
      "25\n",
      "26\n",
      "27\n",
      "28\n",
      "29\n",
      "30\n",
      "31\n",
      "0\n",
      "0\n"
     ]
    }
   ],
   "source": [
    "# loop over the days of a month\n",
    "# zeroes mean that the day of the week is in an overlapping month\n",
    "\n",
    "c = calendar.TextCalendar(calendar.SUNDAY)\n",
    "str1 = c.formatmonth(2017, 1, 0, 0)\n",
    "print (str1)\n",
    "\n",
    "for i in c.itermonthdays(2017, 8):\n",
    "  print (i)"
   ]
  },
  {
   "cell_type": "code",
   "execution_count": 34,
   "metadata": {},
   "outputs": [
    {
     "name": "stdout",
     "output_type": "stream",
     "text": [
      "    January 2017\n",
      "Su Mo Tu We Th Fr Sa\n",
      " 1  2  3  4  5  6  7\n",
      " 8  9 10 11 12 13 14\n",
      "15 16 17 18 19 20 21\n",
      "22 23 24 25 26 27 28\n",
      "29 30 31\n",
      "\n",
      "0\n",
      "0\n",
      "1\n",
      "2\n",
      "3\n",
      "4\n",
      "5\n",
      "6\n",
      "7\n",
      "8\n",
      "9\n",
      "10\n",
      "11\n",
      "12\n",
      "13\n",
      "14\n",
      "15\n",
      "16\n",
      "17\n",
      "18\n",
      "19\n",
      "20\n",
      "21\n",
      "22\n",
      "23\n",
      "24\n",
      "25\n",
      "26\n",
      "27\n",
      "28\n",
      "29\n",
      "30\n",
      "31\n",
      "0\n",
      "0\n",
      "\n",
      "January\n",
      "February\n",
      "March\n",
      "April\n",
      "May\n",
      "June\n",
      "July\n",
      "August\n",
      "September\n",
      "October\n",
      "November\n",
      "December\n",
      "Monday\n",
      "Tuesday\n",
      "Wednesday\n",
      "Thursday\n",
      "Friday\n",
      "Saturday\n",
      "Sunday\n",
      "Team meetings will be on:\n",
      "  December  1\n"
     ]
    }
   ],
   "source": [
    "# create a plain text calendar\n",
    "c = calendar.TextCalendar(calendar.SUNDAY)\n",
    "str = c.formatmonth(2017, 1, 0, 0)\n",
    "print (str)\n",
    "\n",
    "# loop over the days of a month\n",
    "# zeroes mean that the day of the week is in an overlapping month\n",
    "for i in c.itermonthdays(2017, 8):\n",
    "  print (i)\n",
    "  \n",
    "# The Calendar module provides useful utilities for the given locale,\n",
    "# such as the names of days and months in both full and abbreviated forms\n",
    "for name in calendar.month_name:\n",
    "  print (name)\n",
    "\n",
    "for day in calendar.day_name:\n",
    "  print (day)\n",
    "\n",
    "# Calculate days based on a rule: For example, consider\n",
    "# a team meeting on the first Friday of every month.\n",
    "# To figure out what days that would be for each month,\n",
    "# we can use this script:\n",
    "print (\"Team meetings will be on:\")\n",
    "for m in range(1,13):\n",
    "  # returns an array of weeks that represent the month\n",
    "  cal = calendar.monthcalendar(2017, m)\n",
    "  # The first Friday has to be within the first two weeks\n",
    "  weekone = cal[0]\n",
    "  weektwo = cal[1]\n",
    "   \n",
    "  if weekone[calendar.FRIDAY] != 0:\n",
    "    meetday = weekone[calendar.FRIDAY]\n",
    "  else:\n",
    "    # if the first friday isn't in the first week, it must be in the second\n",
    "    meetday = weektwo[calendar.FRIDAY]\n",
    "    \n",
    "print (\"%10s %2d\" % (calendar.month_name[m], meetday))"
   ]
  },
  {
   "cell_type": "code",
   "execution_count": null,
   "metadata": {},
   "outputs": [],
   "source": []
  }
 ],
 "metadata": {
  "kernelspec": {
   "display_name": "Python 3",
   "language": "python",
   "name": "python3"
  },
  "language_info": {
   "codemirror_mode": {
    "name": "ipython",
    "version": 3
   },
   "file_extension": ".py",
   "mimetype": "text/x-python",
   "name": "python",
   "nbconvert_exporter": "python",
   "pygments_lexer": "ipython3",
   "version": "3.6.5"
  }
 },
 "nbformat": 4,
 "nbformat_minor": 2
}
