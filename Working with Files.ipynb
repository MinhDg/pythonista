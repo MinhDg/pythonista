{
 "cells": [
  {
   "cell_type": "code",
   "execution_count": 2,
   "metadata": {},
   "outputs": [],
   "source": [
    "# to open a file, I call the open function and it takes two arguments.\n",
    "# The first is the file to operate on, and the second argument is the kind of access that you want. \n",
    "# So in this example, I'm opening \"textfile.txt\" for write access, because of the \"w\" parameter, \n",
    "# and the plus sign means to create the file if it doesn't already exist. \n",
    "# And when the function returns, I'm storing the creative file object in the \"f\" variable.\n",
    "\n",
    "def main():\n",
    "    f = open(\"textfile.txt\", \"w+\")\n"
   ]
  },
  {
   "cell_type": "code",
   "execution_count": 10,
   "metadata": {},
   "outputs": [],
   "source": [
    "def main():\n",
    "    f = open(\"textfile.txt\", \"w+\")\n",
    "    for i in range(10):\n",
    "        f.write(\"This is line\" + str(i) + \"\\r\\n\")\n",
    "    f.close()\n",
    "\n",
    "# write some lines of data to the file\n",
    "# let's write some lines of data. So, alright, \"for i in a range of 10.\" \n",
    "# I'm going to take the \"f\" variable, call the write function on it. \n",
    "# And I'll just write some text. Alright. \n",
    "# So the write function writes data to the file, which in this case is just a series of lines. \n",
    "# And then the file needs to be closed"
   ]
  },
  {
   "cell_type": "code",
   "execution_count": 11,
   "metadata": {},
   "outputs": [],
   "source": [
    "main()"
   ]
  },
  {
   "cell_type": "code",
   "execution_count": 12,
   "metadata": {},
   "outputs": [],
   "source": [
    "def main():\n",
    "    f = open(\"textfile.txt\", \"a\")  # the \"a\" parameter means to append data to the end of the file instead of overwriting all the existing content that's already in there. \n",
    "    # The rest of the code will remain the same\n",
    "    for i in range(10):\n",
    "        f.write(\"This is line\" + str(i) + \"\\r\\n\")\n",
    "    f.close()"
   ]
  },
  {
   "cell_type": "code",
   "execution_count": 13,
   "metadata": {},
   "outputs": [],
   "source": [
    "main()"
   ]
  },
  {
   "cell_type": "code",
   "execution_count": 15,
   "metadata": {},
   "outputs": [
    {
     "name": "stdout",
     "output_type": "stream",
     "text": [
      "This is line 1\n",
      "\n",
      "This is line 2\n",
      "\n",
      "This is line 3\n",
      "\n",
      "This is line 4\n",
      "\n",
      "This is line 5\n",
      "\n",
      "This is line 6\n",
      "\n",
      "This is line 7\n",
      "\n",
      "This is line 8\n",
      "\n",
      "This is line 9\n",
      "\n",
      "This is line 10\n",
      "\n",
      "\n"
     ]
    }
   ],
   "source": [
    "def main():  \n",
    "  # Open a file for writing and create it if it doesn't exist\n",
    "  f = open(\"textfile.txt\",\"w+\")\n",
    "  \n",
    "  # Open the file for appending text to the end\n",
    "  # f = open(\"textfile.txt\",\"a+\")\n",
    "\n",
    "  # write some lines of data to the file\n",
    "  for i in range(10):\n",
    "    f.write(\"This is line %d\\r\\n\" % (i+1))\n",
    "  \n",
    "  # close the file when done\n",
    "  f.close()\n",
    "  \n",
    "  # Open the file back up and read the contents\n",
    "  f = open(\"textfile.txt\",\"r\")\n",
    "  if f.mode == 'r': # check to make sure that the file was opened\n",
    "    # use the read() function to read the entire file\n",
    "    contents = f.read()\n",
    "    print (contents)\n",
    "\n",
    "if __name__ == \"__main__\":\n",
    "  main()\n"
   ]
  },
  {
   "cell_type": "code",
   "execution_count": 16,
   "metadata": {},
   "outputs": [
    {
     "name": "stdout",
     "output_type": "stream",
     "text": [
      "This is line 1\n",
      "\n",
      "\n",
      "\n",
      "This is line 2\n",
      "\n",
      "\n",
      "\n",
      "This is line 3\n",
      "\n",
      "\n",
      "\n",
      "This is line 4\n",
      "\n",
      "\n",
      "\n",
      "This is line 5\n",
      "\n",
      "\n",
      "\n",
      "This is line 6\n",
      "\n",
      "\n",
      "\n",
      "This is line 7\n",
      "\n",
      "\n",
      "\n",
      "This is line 8\n",
      "\n",
      "\n",
      "\n",
      "This is line 9\n",
      "\n",
      "\n",
      "\n",
      "This is line 10\n",
      "\n",
      "\n",
      "\n"
     ]
    }
   ],
   "source": [
    "def main():  \n",
    "  # Open a file for writing and create it if it doesn't exist\n",
    "  f = open(\"textfile.txt\",\"w+\")\n",
    "  \n",
    "  # Open the file for appending text to the end\n",
    "  # f = open(\"textfile.txt\",\"a+\")\n",
    "\n",
    "  # write some lines of data to the file\n",
    "  for i in range(10):\n",
    "    f.write(\"This is line %d\\r\\n\" % (i+1))\n",
    "  \n",
    "  # close the file when done\n",
    "  f.close()\n",
    "  \n",
    "  # Open the file back up and read the contents\n",
    "  f = open(\"textfile.txt\",\"r\")\n",
    "  if f.mode == 'r': # check to make sure that the file was opened\n",
    "    fl = f.readlines() # readlines reads the individual lines into a list\n",
    "    for x in fl:\n",
    "      print (x)\n",
    "    \n",
    "if __name__ == \"__main__\":\n",
    "  main()\n"
   ]
  },
  {
   "cell_type": "code",
   "execution_count": null,
   "metadata": {},
   "outputs": [],
   "source": []
  },
  {
   "cell_type": "code",
   "execution_count": null,
   "metadata": {},
   "outputs": [],
   "source": []
  },
  {
   "cell_type": "code",
   "execution_count": null,
   "metadata": {},
   "outputs": [],
   "source": []
  }
 ],
 "metadata": {
  "kernelspec": {
   "display_name": "Python 3",
   "language": "python",
   "name": "python3"
  },
  "language_info": {
   "codemirror_mode": {
    "name": "ipython",
    "version": 3
   },
   "file_extension": ".py",
   "mimetype": "text/x-python",
   "name": "python",
   "nbconvert_exporter": "python",
   "pygments_lexer": "ipython3",
   "version": "3.6.5"
  }
 },
 "nbformat": 4,
 "nbformat_minor": 2
}
